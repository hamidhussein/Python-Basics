{
 "cells": [
  {
   "cell_type": "markdown",
   "metadata": {},
   "source": [
    "# LECTURE :01 | PYTHON SYNTAX"
   ]
  },
  {
   "cell_type": "code",
   "execution_count": 1,
   "metadata": {},
   "outputs": [
    {
     "name": "stdout",
     "output_type": "stream",
     "text": [
      "I LOVE PROGRAMMING\n"
     ]
    }
   ],
   "source": [
    "print(\"I LOVE PROGRAMMING\")"
   ]
  },
  {
   "cell_type": "code",
   "execution_count": 2,
   "metadata": {},
   "outputs": [
    {
     "name": "stdout",
     "output_type": "stream",
     "text": [
      "I AM LEARNING PYTHON\n"
     ]
    }
   ],
   "source": [
    "print(\"I AM LEARNING PYTHON\")"
   ]
  },
  {
   "cell_type": "markdown",
   "metadata": {},
   "source": [
    "# Lectur 02 | Variables and Datatypes\n"
   ]
  },
  {
   "cell_type": "raw",
   "metadata": {},
   "source": [
    "VARIABLE: Variable is a container to store a value\n",
    "Datatype: A data type determines what type of value an object or variable can have and what operations can be performed."
   ]
  },
  {
   "cell_type": "raw",
   "metadata": {},
   "source": [
    "RULES FOR NAMING VARIABLE\n",
    "---------------------------------------------------------------\n",
    "⦁\tA variable name must start with a letter or the underscore\n",
    "    character a-z, _a\n",
    "\n",
    "⦁\tA variable name cannot start with a number 9a\n",
    "\n",
    "⦁\tA variable name can only contain alpha-numeric characters and  \n",
    "    underscores (A-z, 0-9, and _ )\n",
    "\n",
    "⦁\tVariable names are case-sensitive \n",
    "   (age, Age and AGE are three different variables)\n",
    "\n",
    "⦁\tSpace must be omitted between variable names\n"
   ]
  },
  {
   "cell_type": "code",
   "execution_count": 3,
   "metadata": {},
   "outputs": [
    {
     "name": "stdout",
     "output_type": "stream",
     "text": [
      "5.2\n",
      "MEHDI\n",
      "5\n",
      "6\n",
      "12\n"
     ]
    }
   ],
   "source": [
    "       \n",
    "number = 5.2   \n",
    "first_name = 'MEHDI' \n",
    "     \n",
    "#Variable are Case Sensitive : Means A and a are are two varibleswith different name\n",
    "A =5\n",
    "a = 6\n",
    "_age=12\n",
    "\n",
    "print(number)\n",
    "print(first_name)\n",
    "print(A)\n",
    "print(a)\n",
    "print(_age)\n",
    "\n",
    "#naming rules\n",
    " # a b =89  wrong\n",
    " #3a=6 wrong\n",
    " #a3=6 correct\n",
    " #%a=5 wrong\n",
    " #-a=7 correct\n",
    " #print = 'pakistan' wrong\n",
    "\n",
    "\n",
    "\n"
   ]
  },
  {
   "cell_type": "markdown",
   "metadata": {},
   "source": [
    "# LEC 03 | DATATYPES"
   ]
  },
  {
   "cell_type": "raw",
   "metadata": {},
   "source": [
    "The data stored in memory can be of many types:\n",
    "For example, a person's age is stored as a numeric value.e.g.AGE=13\n",
    "a person's address is stored as a alpha numeric characters.\n",
    "\n",
    "Python has five standard data types-\n",
    "1) Numbers\n",
    "   <int> :(signed integers) 1,2,3 ,-123 :Signed Integers can be postive or Negative non decimal numbers.\n",
    "   \n",
    "   <float>: (floating point real values )eg, 2.13,0.001\n",
    "   \n",
    "   <complex>:A complex number consists of an ordered pair of real \n",
    "   floating-point numbers denoted by x + yj, where x and y are real\n",
    "   numbers and j is the imaginary unit.\n",
    "\n",
    "\n",
    "2) String\n",
    "3) List\n",
    "4) Tuple\n",
    "5) Dictionary\n"
   ]
  },
  {
   "cell_type": "code",
   "execution_count": 4,
   "metadata": {},
   "outputs": [
    {
     "name": "stdout",
     "output_type": "stream",
     "text": [
      "<class 'int'>\n",
      "<class 'float'>\n",
      "<class 'complex'>\n",
      "<class 'complex'>\n",
      "<class 'str'>\n"
     ]
    }
   ],
   "source": [
    "var1 =13          #Integer\n",
    "var2 = 5.2        #float \n",
    "var3 =3.14j       #Complex\n",
    "var4 = 4.53e-7j   #Complex\n",
    "\n",
    "first_name = 'MEHDI' #string\n",
    "    \n",
    "\n",
    "print(type(var1))\n",
    "print(type(var2))\n",
    "print(type(var3))\n",
    "print(type(var4))\n",
    "print(type(first_name))\n"
   ]
  },
  {
   "cell_type": "markdown",
   "metadata": {},
   "source": [
    "# LECTURE : 03 OPERATORS\n"
   ]
  },
  {
   "cell_type": "raw",
   "metadata": {},
   "source": [
    "Python language supports the following types of operators-\n",
    "1 Arithmetic Operators \n",
    "2 Comparison (Relational) Operators\n",
    "3 Assignment Operators\n",
    "4 Logical Operators\n",
    "5 Bitwise Operators\n",
    "6 Membership Operators\n",
    "8 Identity Operators"
   ]
  },
  {
   "cell_type": "raw",
   "metadata": {},
   "source": [
    "ARITHEMATIC OPERATORS :\n",
    "-------------------------------------------------------------------\n",
    "  +   Addition :Adds values on either side of the operator.\n",
    "    \n",
    "  -   Subtraction:Subtracts the right hand operand from left\n",
    "                    operand\n",
    "                    \n",
    "  *   Multiplication:Multiplies values on either side of the  \n",
    "                       operators\n",
    "    \n",
    "  /   Division: Divides left hand operand by right hand operand \n",
    "    \n",
    "  %   Modulus:  Divides left hand operand by right hand operand and\n",
    "                returns reminder.\n",
    "    \n",
    "  **  Exponent:Performs exponential (power)calculation on\n",
    "                 operators.\n",
    "    \n",
    "  //  Floor Division:The division of operands where the result is                        the quotient in which the digits after the                          decimal point are removed.\n"
   ]
  },
  {
   "cell_type": "code",
   "execution_count": 5,
   "metadata": {},
   "outputs": [
    {
     "name": "stdout",
     "output_type": "stream",
     "text": [
      "2+2 = 4\n"
     ]
    }
   ],
   "source": [
    "print(\"2+2 =\",2+2)"
   ]
  },
  {
   "cell_type": "code",
   "execution_count": 6,
   "metadata": {},
   "outputs": [
    {
     "name": "stdout",
     "output_type": "stream",
     "text": [
      "4-2 = 2\n"
     ]
    }
   ],
   "source": [
    "print('4-2 =',4-2)"
   ]
  },
  {
   "cell_type": "code",
   "execution_count": 7,
   "metadata": {},
   "outputs": [
    {
     "name": "stdout",
     "output_type": "stream",
     "text": [
      "2*2 = 4\n"
     ]
    }
   ],
   "source": [
    "print(\"2*2 =\",2*2)"
   ]
  },
  {
   "cell_type": "code",
   "execution_count": 8,
   "metadata": {},
   "outputs": [
    {
     "name": "stdout",
     "output_type": "stream",
     "text": [
      "5/2 = 2.5\n"
     ]
    }
   ],
   "source": [
    "print(\"5/2 =\",5/2) #divison with decimal"
   ]
  },
  {
   "cell_type": "code",
   "execution_count": 9,
   "metadata": {},
   "outputs": [
    {
     "name": "stdout",
     "output_type": "stream",
     "text": [
      "5//2 = 2\n"
     ]
    }
   ],
   "source": [
    "print(\"5//2 =\",5//2)  #division without decimal"
   ]
  },
  {
   "cell_type": "code",
   "execution_count": 10,
   "metadata": {},
   "outputs": [
    {
     "name": "stdout",
     "output_type": "stream",
     "text": [
      "11%2 = 1\n"
     ]
    }
   ],
   "source": [
    "print(\"11%2 =\",11%2) #modulus return the reminder"
   ]
  },
  {
   "cell_type": "code",
   "execution_count": 11,
   "metadata": {},
   "outputs": [
    {
     "name": "stdout",
     "output_type": "stream",
     "text": [
      " 2 power 5 = 32\n"
     ]
    }
   ],
   "source": [
    "\n",
    "print(\" 2 power 5 =\",2**5) #to find power of number\n",
    "\n"
   ]
  },
  {
   "cell_type": "code",
   "execution_count": null,
   "metadata": {},
   "outputs": [],
   "source": []
  },
  {
   "cell_type": "code",
   "execution_count": 12,
   "metadata": {},
   "outputs": [
    {
     "name": "stdout",
     "output_type": "stream",
     "text": [
      "32\n",
      "7776\n",
      "8\n",
      "7800\n"
     ]
    }
   ],
   "source": [
    "\n",
    "a=2**5\n",
    "b=6**5\n",
    "c=2**3\n",
    "print(a)\n",
    "print(b)\n",
    "print(c)\n",
    "\n",
    "print(a+b-c)"
   ]
  },
  {
   "cell_type": "code",
   "execution_count": 13,
   "metadata": {},
   "outputs": [
    {
     "name": "stdout",
     "output_type": "stream",
     "text": [
      "3 is sum of a and b\n"
     ]
    }
   ],
   "source": [
    "a=1\n",
    "b=2\n",
    "c=a+b\n",
    "\n",
    "print(c,'is sum of a and b')"
   ]
  },
  {
   "cell_type": "code",
   "execution_count": 14,
   "metadata": {},
   "outputs": [
    {
     "name": "stdout",
     "output_type": "stream",
     "text": [
      "Line 1 - Value of c is  31\n",
      "Line 2 - Value of c is  11\n",
      "Line 3 - Value of c is  210\n",
      "Line 4 - Value of c is  2.1\n",
      "Line 5 - Value of c is  1\n",
      "Line 6 - Value of c is  8\n",
      "Line 7 - Value of c is  2\n"
     ]
    }
   ],
   "source": [
    "a = 21\n",
    "b = 10\n",
    "c = 20\n",
    "c = a + b\n",
    "print (\"Line 1 - Value of c is \", c)\n",
    "\n",
    "c = a - b\n",
    "print (\"Line 2 - Value of c is \", c )\n",
    "\n",
    "c = a * b\n",
    "print (\"Line 3 - Value of c is \", c)\n",
    "\n",
    "c = a / b\n",
    "print (\"Line 4 - Value of c is \", c )\n",
    "\n",
    "c = a % b\n",
    "print (\"Line 5 - Value of c is \", c)\n",
    "\n",
    "a = 2\n",
    "b = 3\n",
    "c = a**b\n",
    "\n",
    "print (\"Line 6 - Value of c is \", c)\n",
    "a = 10\n",
    "b = 5\n",
    "\n",
    "c = a//b\n",
    "print (\"Line 7 - Value of c is \", c)"
   ]
  },
  {
   "cell_type": "code",
   "execution_count": 15,
   "metadata": {},
   "outputs": [
    {
     "name": "stdout",
     "output_type": "stream",
     "text": [
      "value stored in a is 87\n"
     ]
    }
   ],
   "source": [
    "a=87\n",
    "b=90\n",
    "\n",
    "print(\"value stored in a is\",a)"
   ]
  },
  {
   "cell_type": "code",
   "execution_count": 16,
   "metadata": {},
   "outputs": [
    {
     "name": "stdout",
     "output_type": "stream",
     "text": [
      "Line 1 - Value of c is  31\n",
      "Line 2 - Value of c is  11\n",
      "Line 3 - Value of c is  210\n",
      "Line 4 - Value of c is  2.1\n",
      "Line 5 - Value of c is  1\n",
      "Line 6 - Value of c is  8\n",
      "Line 7 - Value of c is  2\n"
     ]
    }
   ],
   "source": [
    "a = 21\n",
    "b = 10\n",
    "c = 0\n",
    "c = a + b\n",
    "print (\"Line 1 - Value of c is \", c)\n",
    "c = a - b\n",
    "print (\"Line 2 - Value of c is \", c )\n",
    "c = a * b\n",
    "print (\"Line 3 - Value of c is \", c)\n",
    "c = a / b\n",
    "print (\"Line 4 - Value of c is \", c )\n",
    "c = a % b\n",
    "print (\"Line 5 - Value of c is \", c)\n",
    "a = 2\n",
    "b = 3\n",
    "c = a**b\n",
    "print (\"Line 6 - Value of c is \", c)\n",
    "a = 10\n",
    "b = 5\n",
    "c = a//b\n",
    "print (\"Line 7 - Value of c is \", c)"
   ]
  },
  {
   "cell_type": "markdown",
   "metadata": {},
   "source": [
    "#  LEC 04 | STRINGS"
   ]
  },
  {
   "cell_type": "raw",
   "metadata": {},
   "source": [
    "1:Strings in Python are identified as a contiguous set of characters represented in the quotation marks. \n",
    "\n",
    "2:Python allows either pair of single , double or Triple quotes.\n",
    "\n",
    "3:Subsets of strings can be taken using the slice operator ([ ] and [:] ) with indexes starting at 0 in the beginning of the string and \n",
    "working their way from -1 to the end."
   ]
  },
  {
   "cell_type": "code",
   "execution_count": 17,
   "metadata": {},
   "outputs": [
    {
     "name": "stdout",
     "output_type": "stream",
     "text": [
      "Welcome MEHDI\n"
     ]
    }
   ],
   "source": [
    "name = \"MEHDI\"\n",
    "print(\"Welcome\",name)"
   ]
  },
  {
   "cell_type": "code",
   "execution_count": 18,
   "metadata": {},
   "outputs": [
    {
     "name": "stdout",
     "output_type": "stream",
     "text": [
      "1\n",
      "2\n",
      "3\n",
      "123\n"
     ]
    }
   ],
   "source": [
    "\n",
    "# a , b  and c is not int type in this case \n",
    "\n",
    "#because it is encloed in  quotes and its type is str\n",
    "\n",
    "a= '''1'''  #String with triple quotes\n",
    "b =\"2\"      #String with Dual quotes\n",
    "c = '3'     #String with Single quotes\n",
    "\n",
    "print(a)\n",
    "print(b)\n",
    "print(c)\n",
    "\n",
    "print(a+b+c)\n"
   ]
  },
  {
   "cell_type": "markdown",
   "metadata": {},
   "source": [
    "# LEC: 05| String Concatination"
   ]
  },
  {
   "cell_type": "raw",
   "metadata": {},
   "source": [
    "Combination of strings is called concatination.\n",
    "\n",
    "The plus (+) sign is the string concatenation operator and the asterisk (*) is the repetition\n",
    "operator\n"
   ]
  },
  {
   "cell_type": "code",
   "execution_count": 19,
   "metadata": {},
   "outputs": [
    {
     "name": "stdout",
     "output_type": "stream",
     "text": [
      "Pakistan Zindabad\n"
     ]
    }
   ],
   "source": [
    "a= \"Pakistan\"\n",
    "b= \"Zindabad\"\n",
    "\n",
    "print(a+' '+b)"
   ]
  },
  {
   "cell_type": "code",
   "execution_count": 20,
   "metadata": {},
   "outputs": [
    {
     "name": "stdout",
     "output_type": "stream",
     "text": [
      "ALI Abbass programmer\n"
     ]
    }
   ],
   "source": [
    "#PROGRAM TO CONCATE THREE NAMES\n",
    "first_name=\"ALI\"\n",
    "last_name =\"Abbass\"\n",
    "nick_name =\"programmer\"\n",
    "\n",
    "#Ali Abbas Programmer\n",
    "print(first_name+' '+last_name+' '+nick_name)"
   ]
  },
  {
   "cell_type": "code",
   "execution_count": 21,
   "metadata": {},
   "outputs": [
    {
     "name": "stdout",
     "output_type": "stream",
     "text": [
      " ALI ALI ALI ALI ALI\n"
     ]
    }
   ],
   "source": [
    "first_name=\" ALI\"\n",
    "print(first_name*5) "
   ]
  },
  {
   "cell_type": "markdown",
   "metadata": {},
   "source": [
    "# Lec 06 | String Slicing"
   ]
  },
  {
   "cell_type": "code",
   "execution_count": 22,
   "metadata": {},
   "outputs": [
    {
     "name": "stdout",
     "output_type": "stream",
     "text": [
      "Hello World!\n",
      "H\n",
      "llo\n",
      "llo World!\n",
      "Hell\n",
      "Hello World!Hello World!\n",
      "Hello World!TEST\n"
     ]
    }
   ],
   "source": [
    "#STRING SLICING\n",
    "str = 'Hello World!'\n",
    "\n",
    "\n",
    "\n",
    "print (str)      # Prints complete string\n",
    "\n",
    "print (str[0])    # Prints first character of the string\n",
    "\n",
    "print (str[2:5])  # Prints characters starting from 3rd to 5th\n",
    "\n",
    "print (str[2:])  # Prints string starting from 3rd character\n",
    "\n",
    "print (str[:4])  # Prints first four charachter\n",
    "\n",
    "\n",
    "\n",
    "print (str * 2)  # Prints string two times\n",
    "\n",
    "print (str + \"TEST\") # Prints concatenated string"
   ]
  },
  {
   "cell_type": "code",
   "execution_count": 23,
   "metadata": {},
   "outputs": [
    {
     "name": "stdout",
     "output_type": "stream",
     "text": [
      "MEHDI Hussian\n",
      "I\n",
      "HDI\n",
      "HDI Hussian\n",
      "MEHD\n"
     ]
    }
   ],
   "source": [
    "name = \"MEHDI Hussian\" \n",
    "print(name)\n",
    "\n",
    "print(name[4])\n",
    "\n",
    "print(name[2:5])\n",
    "\n",
    "print(name[2:])\n",
    "\n",
    "print(name[:4])"
   ]
  },
  {
   "cell_type": "markdown",
   "metadata": {},
   "source": [
    "# LEC 07|LIST "
   ]
  },
  {
   "cell_type": "raw",
   "metadata": {},
   "source": [
    " A list contains items separated by commas and enclosed within\n",
    "    square brackets ([]). \n",
    " To some extent, lists are similar to arrays in C.\n",
    "\n",
    " One of the differences between them is that all the items\n",
    "     belonging to a list can be of different data type.\n",
    "    \n",
    " The values stored in a list can be accessed using the slice\n",
    "    operator ([ ] and [:]) with indexes starting at 0 in the\n",
    "    beginning of the list and working their way to end -1. \n",
    "    \n",
    " The plus (+) sign is the list concatenation operator, and the\n",
    "    asterisk (*) is the repetition operator.\n"
   ]
  },
  {
   "cell_type": "code",
   "execution_count": 24,
   "metadata": {},
   "outputs": [
    {
     "name": "stdout",
     "output_type": "stream",
     "text": [
      "['abcd', 786, 2.23, 'john', 70.2]\n",
      "abcd\n",
      "[786, 2.23]\n",
      "[2.23, 'john', 70.2]\n",
      "[123, 'john', 123, 'john']\n",
      "['abcd', 786, 2.23, 'john', 70.2, 123, 'john']\n"
     ]
    }
   ],
   "source": [
    "list = [ 'abcd', 786 , 2.23, 'john', 70.2 ]\n",
    "tinylist = [123, 'john']\n",
    "print (list) # Prints complete list\n",
    "print (list[0]) # Prints first element of the list\n",
    "print (list[1:3]) # Prints elements starting from 2nd till 3rd\n",
    "print (list[2:]) # Prints elements starting from 3rd element\n",
    "print (tinylist * 2) # Prints list two times\n",
    "print (list + tinylist) # Prints concatenated lists"
   ]
  },
  {
   "cell_type": "markdown",
   "metadata": {},
   "source": [
    "# LEC 08 | LIST Builtin Functions or Methods"
   ]
  },
  {
   "cell_type": "raw",
   "metadata": {},
   "source": [
    "1.\tappend()\tAdds an element at the end of the list\n",
    "2.\tclear()\t\tRemoves all the elements from the list\n",
    "3.\tcopy()\t\tReturns a copy of the list\n",
    "4.\tcount()\t\tReturns the number of elements with the specified value\n",
    "5.\textend()\tAdd the elements of a list (or any iterable), to the end of the current list\n",
    "6.\tindex()\t\tReturns the index of the first element with the specified value\n",
    "7.\tinsert()\tAdds an element at the specified position\n",
    "8.\tpop()\t\tRemoves the element at the specified position\n",
    "9.\tremove()\tRemoves the first item with the specified value\n",
    "10.\treverse()\tReverses the order of the list\n",
    "11.\tsort()\t\tSorts the list\n",
    "\n"
   ]
  },
  {
   "cell_type": "code",
   "execution_count": 25,
   "metadata": {},
   "outputs": [
    {
     "name": "stdout",
     "output_type": "stream",
     "text": [
      "3\n"
     ]
    },
    {
     "ename": "TypeError",
     "evalue": "'list' object is not callable",
     "output_type": "error",
     "traceback": [
      "\u001b[1;31m---------------------------------------------------------------------------\u001b[0m",
      "\u001b[1;31mTypeError\u001b[0m                                 Traceback (most recent call last)",
      "\u001b[1;32m<ipython-input-25-a2262aba5557>\u001b[0m in \u001b[0;36m<module>\u001b[1;34m\u001b[0m\n\u001b[0;32m      4\u001b[0m \u001b[1;33m\u001b[0m\u001b[0m\n\u001b[0;32m      5\u001b[0m \u001b[1;31m#creates list of numbers between 0-4\u001b[0m\u001b[1;33m\u001b[0m\u001b[1;33m\u001b[0m\u001b[1;33m\u001b[0m\u001b[0m\n\u001b[1;32m----> 6\u001b[1;33m \u001b[0mlist2\u001b[0m\u001b[1;33m=\u001b[0m\u001b[0mlist\u001b[0m\u001b[1;33m(\u001b[0m\u001b[0mrange\u001b[0m\u001b[1;33m(\u001b[0m\u001b[1;36m5\u001b[0m\u001b[1;33m)\u001b[0m\u001b[1;33m)\u001b[0m\u001b[1;33m\u001b[0m\u001b[1;33m\u001b[0m\u001b[0m\n\u001b[0m\u001b[0;32m      7\u001b[0m \u001b[0mprint\u001b[0m \u001b[1;33m(\u001b[0m\u001b[0mlen\u001b[0m\u001b[1;33m(\u001b[0m\u001b[0mlist2\u001b[0m\u001b[1;33m)\u001b[0m\u001b[1;33m)\u001b[0m\u001b[1;33m\u001b[0m\u001b[1;33m\u001b[0m\u001b[0m\n",
      "\u001b[1;31mTypeError\u001b[0m: 'list' object is not callable"
     ]
    }
   ],
   "source": [
    "#To find Length of List\n",
    "list1 = ['physics', 'chemistry', 'maths']\n",
    "print (len(list1))\n",
    "\n",
    "#creates list of numbers between 0-4\n",
    "list2=list(range(5)) \n",
    "print (len(list2))"
   ]
  },
  {
   "cell_type": "code",
   "execution_count": 31,
   "metadata": {},
   "outputs": [
    {
     "name": "stdout",
     "output_type": "stream",
     "text": [
      "Max value element :  PHP\n",
      "Max value element :  700\n"
     ]
    }
   ],
   "source": [
    "#This program returns the elements from the list with maximum value.\n",
    "#If the values are strings, an alphabetically comparison is done.\n",
    "\n",
    "\n",
    "  \n",
    "list1 =['C++','Java', 'PHP','JavaScript']\n",
    "list2 =[456, 700, 200]\n",
    "print (\"Max value element : \", max(list1))\n",
    "print (\"Max value element : \", max(list2))\n"
   ]
  },
  {
   "cell_type": "code",
   "execution_count": 30,
   "metadata": {},
   "outputs": [
    {
     "name": "stdout",
     "output_type": "stream",
     "text": [
      "min value element :  C++\n",
      "min value element :  200\n"
     ]
    }
   ],
   "source": [
    "#This program returns the elements from the list with MINIMUM value.\n",
    "#If the values are strings, an alphabetically comparison is done.\n",
    "list1  = ['C++','Java', 'Python']\n",
    "list2=[456, 700, 200]\n",
    "print (\"min value element : \", min(list1))\n",
    "print (\"min value element : \", min(list2))\n"
   ]
  },
  {
   "cell_type": "code",
   "execution_count": 29,
   "metadata": {},
   "outputs": [
    {
     "name": "stdout",
     "output_type": "stream",
     "text": [
      "['apple', 'banana', 'cherry', 'orange']\n"
     ]
    }
   ],
   "source": [
    "#Program to add new element at the end of List\n",
    "fruits = ['apple', 'banana', 'cherry']\n",
    "fruits.append(\"orange\")\n",
    "print(fruits)"
   ]
  },
  {
   "cell_type": "code",
   "execution_count": 28,
   "metadata": {},
   "outputs": [
    {
     "name": "stdout",
     "output_type": "stream",
     "text": [
      "[]\n"
     ]
    }
   ],
   "source": [
    "#Program to remove all emenets from List\n",
    "fruits = ['apple', 'banana', 'cherry', 'orange']\n",
    "\n",
    "fruits.clear()\n",
    "print(fruits)"
   ]
  },
  {
   "cell_type": "code",
   "execution_count": 26,
   "metadata": {},
   "outputs": [
    {
     "name": "stdout",
     "output_type": "stream",
     "text": [
      "2\n",
      "3\n"
     ]
    }
   ],
   "source": [
    "#Program to count total number of specific element store in list\n",
    "fruits = ['apple', 'banana', 'cherry','cherry']\n",
    "\n",
    "x = fruits.count(\"cherry\")\n",
    "print(x)\n",
    "\n",
    "#Example 2\n",
    "points = [1, 4, 2, 9, 7, 8, 9, 3, 1,9]\n",
    "\n",
    "y = points.count(9)\n",
    "print(y)"
   ]
  },
  {
   "cell_type": "code",
   "execution_count": 27,
   "metadata": {},
   "outputs": [
    {
     "name": "stdout",
     "output_type": "stream",
     "text": [
      "['apple', 'banana', 'cherry']\n",
      "['apple', 'banana', 'cherry', 10, 11, 12, 13]\n",
      "['apple', 'banana', 'cherry', 10, 11, 12, 13, 14, 15, 16, 17]\n",
      "['apple', 'banana', 'cherry', 10, 11, 12, 13, 14, 15, 16, 17, 'a']\n"
     ]
    }
   ],
   "source": [
    "#Program to adds the specified list elements (or any iterable) to the end of the current list.\n",
    "#Note: You can extend an existing list with ,SET,TUPLE OR ANY LIST itself.\n",
    "\n",
    "#Example List extending with SET\n",
    "fruits = ['apple', 'banana', 'cherry']\n",
    "points1 = {1, 4, 5, 9}\n",
    "print(fruits)\n",
    "\n",
    "#Example List extending with TUPLE\n",
    "points1 = (10, 11, 12, 13)\n",
    "fruits.extend(points1)\n",
    "print(fruits)\n",
    "\n",
    "#Example List extending with LIST\n",
    "points2 = (14, 15, 16, 17)\n",
    "fruits.extend(points2)\n",
    "print(fruits)\n",
    "\n",
    "#Example  extending list with single value\n",
    "fruits.extend('a')\n",
    "print(fruits)\n",
    "\n"
   ]
  },
  {
   "cell_type": "code",
   "execution_count": 32,
   "metadata": {},
   "outputs": [
    {
     "name": "stdout",
     "output_type": "stream",
     "text": [
      "4\n"
     ]
    }
   ],
   "source": [
    "#Program to returns the position or index at the first occurrence of the specified value.\n",
    "#What is the position of the value 32:\n",
    "numbers = [4, 55, 64, 32, 16, 32]\n",
    "\n",
    "x = numbers.index(16)\n",
    "print(x)"
   ]
  },
  {
   "cell_type": "code",
   "execution_count": 33,
   "metadata": {},
   "outputs": [
    {
     "name": "stdout",
     "output_type": "stream",
     "text": [
      "List before inserting a value \n",
      "['apple', 'banana', 'cherry']\n",
      "\n",
      "\n",
      "List after inserting a value\n",
      "['apple', 'orange', 'banana', 'cherry']\n"
     ]
    }
   ],
   "source": [
    "# Program to Insert the value at the specific position of  list:\n",
    "\n",
    "fruits = ['apple', 'banana', 'cherry']\n",
    "print(\"List before inserting a value \")\n",
    "print(fruits)\n",
    "\n",
    "print(\"\\n\")\n",
    "\n",
    "fruits.insert(1, \"orange\")\n",
    "print(\"List after inserting a value\")\n",
    "print(fruits)"
   ]
  },
  {
   "cell_type": "code",
   "execution_count": 34,
   "metadata": {},
   "outputs": [
    {
     "name": "stdout",
     "output_type": "stream",
     "text": [
      "List Before removing element\n",
      "['apple', 'banana', 'cherry', 'Mango']\n",
      "List After removing element\n",
      "['apple', 'banana', 'Mango']\n"
     ]
    }
   ],
   "source": [
    "#Program to remove elemeent from list using index \n",
    "fruits = ['apple', 'banana', 'cherry','Mango']\n",
    "print(\"List Before removing element\")\n",
    "print(fruits)\n",
    "\n",
    "\n",
    "print(\"List After removing element\")\n",
    "fruits.pop(2) #Remove cheery from list which has index 2\n",
    "print(fruits)"
   ]
  },
  {
   "cell_type": "code",
   "execution_count": 35,
   "metadata": {},
   "outputs": [
    {
     "name": "stdout",
     "output_type": "stream",
     "text": [
      "List Before removing item\n",
      "['apple', 'banana', 'apple', 'cherry', 'Mango']\n",
      "List After removing item\n",
      "['banana', 'apple', 'cherry', 'Mango']\n"
     ]
    }
   ],
   "source": [
    "#Program  to Removes the first item with the specified value.\n",
    "fruits = ['apple', 'banana', 'apple','cherry','Mango']\n",
    "print(\"List Before removing item\")\n",
    "print(fruits)\n",
    "\n",
    "\n",
    "print(\"List After removing item\")\n",
    "fruits.remove(\"apple\") #Remove first apple from list\n",
    "print(fruits)"
   ]
  },
  {
   "cell_type": "code",
   "execution_count": 36,
   "metadata": {},
   "outputs": [
    {
     "name": "stdout",
     "output_type": "stream",
     "text": [
      "List  before sort\n",
      "[3, 4, 2, 7, 8, 9, 6, 4, 3]\n",
      "List  after sort\n",
      "[2, 3, 3, 4, 4, 6, 7, 8, 9]\n"
     ]
    }
   ],
   "source": [
    "#Progtam to sort items in list\n",
    "num=[3,4,2,7,8,9,6,4,3]\n",
    "print(\"List  before sort\")\n",
    "print(num)\n",
    "\n",
    "print(\"List  after sort\")\n",
    "num.sort() #Method to sort items\n",
    "print(num)\n"
   ]
  },
  {
   "cell_type": "markdown",
   "metadata": {},
   "source": [
    "# LEC 08| Tuple"
   ]
  },
  {
   "cell_type": "raw",
   "metadata": {},
   "source": [
    "A tuple is another sequence data type that is similar to the\n",
    "  list. \n",
    "  \n",
    "A tuple consists of a number of values separated by commas.\n",
    "Unlike lists, however, tuples are enclosed within\n",
    "  parenthesis.\n",
    "  \n",
    "The main difference between lists and tuples is- Lists are\n",
    "enclosed in brackets ( [] ) and their elements and size can be\n",
    "changed, while tuples are enclosed in parentheses (())\n",
    "and cannot be updated. \n"
   ]
  },
  {
   "cell_type": "code",
   "execution_count": 37,
   "metadata": {},
   "outputs": [
    {
     "name": "stdout",
     "output_type": "stream",
     "text": [
      "('abcd', 786, 2.23, 'john', 70.2)\n",
      "abcd\n",
      "(786, 2.23)\n",
      "(2.23, 'john', 70.2)\n",
      "(123, 'john', 123, 'john')\n",
      "('abcd', 786, 2.23, 'john', 70.2, 123, 'john')\n"
     ]
    }
   ],
   "source": [
    "tuple = ( 'abcd', 786 , 2.23, 'john', 70.2 )\n",
    "tinytuple = (123, 'john')\n",
    "print (tuple) # Prints complete tuple\n",
    "print (tuple[0]) # Prints first element of the tuple\n",
    "print (tuple[1:3]) # Prints elements starting from 2nd till 3rd\n",
    "print (tuple[2:]) # Prints elements starting from 3rd element\n",
    "print (tinytuple * 2) # Prints tuple two times\n",
    "print (tuple + tinytuple) # Prints concatenated tuple"
   ]
  },
  {
   "cell_type": "markdown",
   "metadata": {},
   "source": [
    "# Lecture 09| Dicationary"
   ]
  },
  {
   "cell_type": "raw",
   "metadata": {},
   "source": [
    "In Python's dictionaries data is stored in key-value pairs. A dictionary key can be almost any Python type, but are usually numbers or strings. Values, on the other hand, can be any arbitrary Python object.\n",
    "\n",
    "\n",
    " Keys are unique within a dictionary while values may not be. \n",
    " The values of a dictionary can be of any type, but the keys must be of an\n",
    "   immutable data type such as \n",
    "   a: strings,\n",
    "   b: numbers,\n",
    "   c: tuples.\n",
    "\n",
    "\n",
    "  std1 = {'name': 'john','code':6734, 'dept': 'sales'}\n",
    "----------------------------------------------------------------\n",
    " Dictionaries are enclosed by curly braces ({ }) and values can be assigned\n",
    "   and accessedusing square braces ([])\n",
    "   \n",
    " Each key is separated from its value by a colon (:), the items are separated\n",
    "   by commas,and the whole thing is enclosed in curly braces. \n",
    "\n",
    " An empty   dictionary without any items is\n",
    "written with just two curly braces, like this: {}.\n",
    "\n",
    "\n",
    " Keys are unique within a dictionary while values may not be.\n",
    " The values of a dictionary can be of any type, but the keys must be of an\n",
    "   immutable data type such as strings,\n",
    "   numbers, or tuples.\n",
    "\n"
   ]
  },
  {
   "cell_type": "raw",
   "metadata": {},
   "source": [
    "1.\tclear()\t\tRemoves all the elements from the dictionary\n",
    "2.\tcopy()\t\tReturns a copy of the dictionary\n",
    "3.\tfromkeys()\tReturns a dictionary with the specified keys and value\n",
    "4.\tget()\t\tReturns the value of the specified key\n",
    "5.\titems()\t\tReturns a list containing a tuple for each key value pair\n",
    "6.\tkeys()\t\tReturns a list containing the dictionary's keys\n",
    "7.\tpop()\t\tRemoves the element with the specified key\n",
    "8.\tpopitem()\tRemoves the last inserted key-value pair\n",
    "9.\tsetdefault()\tReturns the value of the specified key. If the key does not exist: insert the key, with the specified value\n",
    "10.\tupdate()\tUpdates the dictionary with the specified key-value pairs\n",
    "11.\tvalues()\t\tReturns a list of all the values in the dictionary\n"
   ]
  },
  {
   "cell_type": "code",
   "execution_count": 38,
   "metadata": {},
   "outputs": [
    {
     "name": "stdout",
     "output_type": "stream",
     "text": [
      "{'name': 'john', 'code': 6734, 'dept': 'sales'}\n",
      "dict_keys(['name', 'code', 'dept'])\n",
      "dict_values(['john', 6734, 'sales'])\n"
     ]
    }
   ],
   "source": [
    "#Dicationary Declaration\n",
    "\n",
    "std1 = {'name': 'john','code':6734, 'dept': 'sales'}\n",
    "\n",
    "print (std1)                # Prints complete dictionary\n",
    "print (std1.keys())        # Prints all the keys\n",
    "print (std1.values())       # Prints all the values\n"
   ]
  },
  {
   "cell_type": "code",
   "execution_count": 39,
   "metadata": {},
   "outputs": [
    {
     "name": "stdout",
     "output_type": "stream",
     "text": [
      "{'name': 'ali', 'rollno': 12, 'date of birth': '19-06-2009', 'phone': 92315646}\n"
     ]
    }
   ],
   "source": [
    "#Alternate way to declare dicationary \n",
    "std2={} #Empty Dicationary\n",
    "\n",
    "std2[\"name\"]=\"ali\"  #\"name\" is Key and \"ali\" is value \n",
    "std2[\"rollno\"]=12\n",
    "std2[\"date of birth\"]=\"19-06-2009\"\n",
    "std2[\"phone\"]= 92315646\n",
    "\n",
    "print(std2)\n"
   ]
  },
  {
   "cell_type": "markdown",
   "metadata": {},
   "source": [
    "# LEC 11| Accessing Values in Dictionary"
   ]
  },
  {
   "cell_type": "raw",
   "metadata": {},
   "source": [
    "You can access the items of a dictionary by referring to its key name, inside square brackets:"
   ]
  },
  {
   "cell_type": "code",
   "execution_count": 40,
   "metadata": {},
   "outputs": [
    {
     "name": "stdout",
     "output_type": "stream",
     "text": [
      "dict['Name']:  Zahra\n",
      "dict['Age']:  13\n"
     ]
    }
   ],
   "source": [
    "dict = {'Name': 'Zahra', 'Age': 13, 'Class': 'Seventh'}\n",
    "print (\"dict['Name']: \", dict['Name'])\n",
    "print (\"dict['Age']: \", dict['Age'])\n"
   ]
  },
  {
   "cell_type": "code",
   "execution_count": 41,
   "metadata": {},
   "outputs": [
    {
     "ename": "KeyError",
     "evalue": "'Namee'",
     "output_type": "error",
     "traceback": [
      "\u001b[1;31m---------------------------------------------------------------------------\u001b[0m",
      "\u001b[1;31mKeyError\u001b[0m                                  Traceback (most recent call last)",
      "\u001b[1;32m<ipython-input-41-0f9625c24214>\u001b[0m in \u001b[0;36m<module>\u001b[1;34m\u001b[0m\n\u001b[0;32m      3\u001b[0m \u001b[1;33m\u001b[0m\u001b[0m\n\u001b[0;32m      4\u001b[0m \u001b[0mdict\u001b[0m \u001b[1;33m=\u001b[0m \u001b[1;33m{\u001b[0m\u001b[1;34m'Name'\u001b[0m\u001b[1;33m:\u001b[0m \u001b[1;34m'Zara'\u001b[0m\u001b[1;33m,\u001b[0m \u001b[1;34m'Age'\u001b[0m\u001b[1;33m:\u001b[0m \u001b[1;36m7\u001b[0m\u001b[1;33m,\u001b[0m \u001b[1;34m'Class'\u001b[0m\u001b[1;33m:\u001b[0m \u001b[1;34m'First'\u001b[0m\u001b[1;33m}\u001b[0m\u001b[1;33m;\u001b[0m\u001b[1;33m\u001b[0m\u001b[1;33m\u001b[0m\u001b[0m\n\u001b[1;32m----> 5\u001b[1;33m \u001b[0mprint\u001b[0m \u001b[1;33m(\u001b[0m\u001b[0mdict\u001b[0m\u001b[1;33m[\u001b[0m\u001b[1;34m'Namee'\u001b[0m\u001b[1;33m]\u001b[0m\u001b[1;33m,\u001b[0m \u001b[0mdict\u001b[0m\u001b[1;33m[\u001b[0m\u001b[1;34m'Age'\u001b[0m\u001b[1;33m]\u001b[0m\u001b[1;33m)\u001b[0m\u001b[1;33m\u001b[0m\u001b[1;33m\u001b[0m\u001b[0m\n\u001b[0m\u001b[0;32m      6\u001b[0m \u001b[1;33m\u001b[0m\u001b[0m\n",
      "\u001b[1;31mKeyError\u001b[0m: 'Namee'"
     ]
    }
   ],
   "source": [
    "#If we attempt to access a data item with a key, which is not \n",
    "#a part of the dictionary, we eget an error as follows-\n",
    "\n",
    "dict = {'Name': 'Zara', 'Age': 7, 'Class': 'First'};\n",
    "print (dict['Namee'], dict['Age'])\n",
    "\n"
   ]
  },
  {
   "cell_type": "code",
   "execution_count": 42,
   "metadata": {},
   "outputs": [
    {
     "name": "stdout",
     "output_type": "stream",
     "text": [
      "Zahra\n"
     ]
    }
   ],
   "source": [
    "#There is also a method called get() that will give you the same result:\n",
    "dict = {'Name': 'Zahra', 'Age': 13, 'Class': 'Seventh'}\n",
    "x=dict.get('Name')\n",
    "print(x)\n"
   ]
  },
  {
   "cell_type": "code",
   "execution_count": 43,
   "metadata": {},
   "outputs": [
    {
     "name": "stdout",
     "output_type": "stream",
     "text": [
      "dict_keys(['Name', 'Age', 'Class'])\n"
     ]
    }
   ],
   "source": [
    "#Program to get Keys of Dicationary\n",
    "dict = {'Name': 'Zahra', 'Age': 13, 'Class': 'Seventh'}\n",
    "x= dict.keys()\n",
    "print(x)\n"
   ]
  },
  {
   "cell_type": "code",
   "execution_count": 44,
   "metadata": {},
   "outputs": [
    {
     "name": "stdout",
     "output_type": "stream",
     "text": [
      "dict_values(['Zahra', 13, 'Seventh'])\n"
     ]
    }
   ],
   "source": [
    "#Program to get Values of Dicationary\n",
    "dict = {'Name': 'Zahra', 'Age': 13, 'Class': 'Seventh'}\n",
    "x= dict.values()\n",
    "print(x)\n"
   ]
  },
  {
   "cell_type": "code",
   "execution_count": null,
   "metadata": {},
   "outputs": [],
   "source": []
  },
  {
   "cell_type": "markdown",
   "metadata": {},
   "source": [
    "# LEC 12 |Updating Dictionary"
   ]
  },
  {
   "cell_type": "raw",
   "metadata": {},
   "source": [
    "You can update a dictionary by adding a new entry or a key-value pair, modifying an existing entry, or deleting an existing entry as shown in a simple example given below. "
   ]
  },
  {
   "cell_type": "code",
   "execution_count": 45,
   "metadata": {},
   "outputs": [
    {
     "name": "stdout",
     "output_type": "stream",
     "text": [
      "{'Name': 'Zahra', 'Age': 7, 'Class': 'First'}\n",
      "{'Name': 'Azhar', 'Age': 7, 'Class': 'First', 'School': 'DPS School'}\n"
     ]
    }
   ],
   "source": [
    "dict1 = {'Name': 'Zahra', 'Age': 7, 'Class': 'First'}\n",
    "\n",
    "print(dict1)\n",
    "\n",
    "\n",
    "dict1['School'] = \"DPS School\" # Add new entry\n",
    "dict1[\"Name\"]= \"Azhar\"  # update existing entry\n",
    "\n",
    "#print (\"dict1['Age']: \", dict1['Age'])\n",
    "#print (\"dict1['School']: \", dict1['School'])\n",
    "\n",
    "print(dict1)\n"
   ]
  },
  {
   "cell_type": "code",
   "execution_count": null,
   "metadata": {},
   "outputs": [],
   "source": [
    "#Program to update items in dicationary using update method.\n",
    "dict1 = {'Name': 'Zahra', 'Age': 7, 'Class': 'First'}\n",
    "print(\"Dicationary before update\")\n",
    "print(dict)\n",
    "\n",
    "print(\"Dicationary after update\")\n",
    "dict1.update({\"color\": \"White\"})\n",
    "print(dict1)\n",
    "\n",
    "#If Item is already present in list then update method will change that item.\n",
    "#Example\n",
    "dict1.update({\"Name\": \"ZARA\"})\n",
    "print(dict1)\n"
   ]
  },
  {
   "cell_type": "markdown",
   "metadata": {},
   "source": [
    "# LEC |13 Delete Dictionary Elements\n"
   ]
  },
  {
   "cell_type": "raw",
   "metadata": {},
   "source": [
    "You can either remove individual dictionary elements or clear the entire contents of a\n",
    "dictionary. \n",
    "You can also delete entire dictionary in a single operation.\n",
    "\n",
    "To explicitly remove an entire dictionary, just use the del statement. Following is a simple\n",
    "example-\n"
   ]
  },
  {
   "cell_type": "code",
   "execution_count": 46,
   "metadata": {},
   "outputs": [
    {
     "name": "stdout",
     "output_type": "stream",
     "text": [
      "{'Name': 'Zahra', 'Age': 14, 'Class': 'eighth'}\n",
      "{'Age': 14, 'Class': 'eighth'}\n"
     ]
    }
   ],
   "source": [
    "dict2 = {'Name': 'Zahra', 'Age': 14, 'Class': 'eighth'}\n",
    "print(dict2)\n",
    "\n",
    "del dict2['Name'] # remove entry with key 'Name'\n",
    "print(dict2)\n",
    "\n",
    "#dict2.clear() # remove all entries in dict\n",
    "#del dict2 # delete entire dictionary\n"
   ]
  },
  {
   "cell_type": "code",
   "execution_count": 47,
   "metadata": {},
   "outputs": [
    {
     "ename": "NameError",
     "evalue": "name 'dict3' is not defined",
     "output_type": "error",
     "traceback": [
      "\u001b[1;31m---------------------------------------------------------------------------\u001b[0m",
      "\u001b[1;31mNameError\u001b[0m                                 Traceback (most recent call last)",
      "\u001b[1;32m<ipython-input-47-386bfc80c53a>\u001b[0m in \u001b[0;36m<module>\u001b[1;34m\u001b[0m\n\u001b[0;32m      2\u001b[0m \u001b[1;32mdel\u001b[0m \u001b[0mdict3\u001b[0m\u001b[1;33m\u001b[0m\u001b[1;33m\u001b[0m\u001b[0m\n\u001b[0;32m      3\u001b[0m \u001b[1;31m#Note: An exception will occur because after del dict, the dictionary does not exist anymore.\u001b[0m\u001b[1;33m\u001b[0m\u001b[1;33m\u001b[0m\u001b[1;33m\u001b[0m\u001b[0m\n\u001b[1;32m----> 4\u001b[1;33m \u001b[0mprint\u001b[0m \u001b[1;33m(\u001b[0m\u001b[1;34m\"dict3['Age']: \"\u001b[0m\u001b[1;33m,\u001b[0m \u001b[0mdict3\u001b[0m\u001b[1;33m[\u001b[0m\u001b[1;34m'Age'\u001b[0m\u001b[1;33m]\u001b[0m\u001b[1;33m)\u001b[0m\u001b[1;33m\u001b[0m\u001b[1;33m\u001b[0m\u001b[0m\n\u001b[0m\u001b[0;32m      5\u001b[0m \u001b[0mprint\u001b[0m \u001b[1;33m(\u001b[0m\u001b[1;34m\"dict3['School']: \"\u001b[0m\u001b[1;33m,\u001b[0m \u001b[0mdict3\u001b[0m\u001b[1;33m[\u001b[0m\u001b[1;34m'School'\u001b[0m\u001b[1;33m]\u001b[0m\u001b[1;33m)\u001b[0m\u001b[1;33m\u001b[0m\u001b[1;33m\u001b[0m\u001b[0m\n",
      "\u001b[1;31mNameError\u001b[0m: name 'dict3' is not defined"
     ]
    }
   ],
   "source": [
    "\n",
    "dict3 = {'Name': 'Zahra', 'Age': 14, 'Class': 'eighth'}\n",
    "del dict3\n",
    "#Note: An exception will occur because after del dict, the dictionary does not exist anymore.\n",
    "print (\"dict3['Age']: \", dict3['Age'])\n",
    "print (\"dict3['School']: \", dict3['School'])"
   ]
  },
  {
   "cell_type": "code",
   "execution_count": 48,
   "metadata": {},
   "outputs": [
    {
     "name": "stdout",
     "output_type": "stream",
     "text": [
      "{'brand': 'HONDA', 'year': 2022}\n"
     ]
    }
   ],
   "source": [
    "#Program to remove  the specified item from the dictionary.\n",
    "car = {\n",
    "  \"brand\": \"HONDA\",\n",
    "  \"model\": \"CIVIC\",\n",
    "  \"year\": 2022\n",
    "}\n",
    "\n",
    "car.pop(\"model\")\n",
    "\n",
    "print(car)"
   ]
  },
  {
   "cell_type": "code",
   "execution_count": 49,
   "metadata": {},
   "outputs": [
    {
     "name": "stdout",
     "output_type": "stream",
     "text": [
      "Dicationary before Pop last item\n",
      "{'brand': 'HONDA', 'model': 'CIVIC', 'year': 2022}\n",
      "Dicationary after Pop last item\n",
      "{'brand': 'HONDA', 'model': 'CIVIC'}\n"
     ]
    }
   ],
   "source": [
    "#Proram to Remove the last item from the dictionary:\n",
    "car = {\n",
    "  \"brand\": \"HONDA\",\n",
    "  \"model\": \"CIVIC\",\n",
    "  \"year\": 2022\n",
    "}\n",
    "print(\"Dicationary before Pop last item\")\n",
    "print(car)\n",
    "car.popitem()\n",
    "print(\"Dicationary after Pop last item\")\n",
    "print(car)"
   ]
  },
  {
   "cell_type": "code",
   "execution_count": 51,
   "metadata": {},
   "outputs": [
    {
     "name": "stdout",
     "output_type": "stream",
     "text": [
      "{'brand': 'HONDA', 'model': 'CIVIC', 'year': 2022}\n"
     ]
    }
   ],
   "source": [
    " # Make a copy of a dictionary with the copy() method:\n",
    "car = {\n",
    "  \"brand\": \"HONDA\",\n",
    "  \"model\": \"CIVIC\",\n",
    "  \"year\": 2022\n",
    "}\n",
    "car2= car.copy()\n",
    "\n",
    "print(car2)"
   ]
  },
  {
   "cell_type": "markdown",
   "metadata": {},
   "source": [
    "# CONDITIONAL STATEMENTS"
   ]
  },
  {
   "cell_type": "code",
   "execution_count": 5,
   "metadata": {},
   "outputs": [
    {
     "name": "stdout",
     "output_type": "stream",
     "text": [
      "Enter your character \tE\n",
      "Vowel\n"
     ]
    }
   ],
   "source": [
    "#PROGRAM TO CHECK WHTTHER ENTERED CHARACTER IS VOWEL OR CONSONANAT\n",
    "\n",
    "x = str(input(\"Enter your character \\t\"))\n",
    "if (x==\"A\" or x==\"a\"):             \n",
    "    print(\"Vowel\")\n",
    "elif (x==\"E\" or x==\"e\"):\n",
    "    print(\"Vowel\")\n",
    "elif (x==\"I\" or x==\"i\"):\n",
    "    print(\"Vowel\")\n",
    "elif (x==\"O\" or x==\"o\"):\n",
    "    print(\"Vowel\")\n",
    "elif (x==\"U\" or x==\"u\"):\n",
    "    print(\"Vowel\")\n",
    "\n",
    "elif(x.isdigit()==True):  #isdigit() is builtin funtion which return  True only if a variable contains any digit. \n",
    "    print(\"You Enterd a Number\")\n",
    "else:\n",
    "    print(\"You Enterd Consonant\")\n"
   ]
  },
  {
   "cell_type": "code",
   "execution_count": null,
   "metadata": {},
   "outputs": [],
   "source": [
    "#PROGRAM TO CHECK WHETHER GIVEN NUMBER IS EVEN OR ODD\n",
    "e= int(input(\"Enter a Number\"))\n",
    "if (e%2==0):\n",
    "    print(\"Even\")\n",
    "elif (e%2==1)\n",
    "    print(\"ODD Number\")"
   ]
  },
  {
   "cell_type": "code",
   "execution_count": 3,
   "metadata": {},
   "outputs": [
    {
     "name": "stdout",
     "output_type": "stream",
     "text": [
      "Enter a Number9\n",
      "9 is prime number\n"
     ]
    }
   ],
   "source": [
    "n=int(input(\"Enter a Number\"))\n",
    "\n",
    "if n>1:                              #Nested if \n",
    "    if(n%2==1):\n",
    "        print(n,\"is prime number\")\n",
    "    else:\n",
    "        print(n,\"is not prime number\")\n",
    "else:\n",
    "    print(n,\"is not prime number\")"
   ]
  },
  {
   "cell_type": "code",
   "execution_count": null,
   "metadata": {},
   "outputs": [],
   "source": [
    "from  tkinter import *\n",
    "win =Tk() #MAIN WINDOW\n",
    "b1=Button(win,text=\"USWA\",fg=\"green\",height=20,width=20)\n",
    "b1.pack(side=LEFT)\n",
    "win.mainloop()\n",
    "\n",
    "\n",
    "\n",
    "\n",
    "\n",
    "\n",
    "\n",
    "\n",
    "\n",
    "\n",
    "\n",
    "\n",
    "\n",
    "\n",
    "\n",
    "\n",
    "\n",
    "\n",
    "\n",
    "\n",
    "\n",
    "\n",
    "\n",
    "\n",
    "\n"
   ]
  },
  {
   "cell_type": "code",
   "execution_count": null,
   "metadata": {},
   "outputs": [],
   "source": [
    "# Importing tkinter module\n",
    "from tkinter import * \n",
    " \n",
    "# creating Tk window\n",
    "master = Tk()\n",
    " \n",
    "# creating a Fram e which can expand according\n",
    "# to the size of the window\n",
    "pane = Frame(master)\n",
    "pane.pack(fill = BOTH, expand = True)\n",
    " \n",
    "# button widgets which can also expand and fill\n",
    "# in the parent widget entirely\n",
    "# Button 1\n",
    "b1 = Button(pane, text = \"Click me !\")\n",
    "b1.pack(fill = BOTH, expand = True)\n",
    " \n",
    "# Button 2\n",
    "b2 = Button(pane, text = \"Click me too\")\n",
    "b2.pack(fill = BOTH, expand = True)\n",
    " \n",
    "# Execute Tkinter\n",
    "master.mainloop()"
   ]
  },
  {
   "cell_type": "code",
   "execution_count": 23,
   "metadata": {},
   "outputs": [],
   "source": [
    "from tkinter import *\n",
    "  \n",
    "# creating tkinter window\n",
    "root = Tk()\n",
    "  \n",
    "# creating fixed geometry of the\n",
    "# tkinter window with dimensions 150x200\n",
    "root.geometry('200x500')\n",
    "  \n",
    "# Create Button and add some text\n",
    "b1 = Button(root, text = '+',\n",
    "                fg='Black' ,\n",
    "                height=2,\n",
    "                activebackground='green')\n",
    "b1.pack(side=LEFT,pady=(120,0),padx=(12,0))\n",
    "\n",
    "#Code for b2\n",
    "b2 = Button(root, text = '-',\n",
    "                fg='Black' ,\n",
    "                height=2,\n",
    "                activebackground='green')\n",
    "b2.pack(side=LEFT,pady=(120,0),padx=(12,12))\n",
    "\n",
    "#Code for b3\n",
    "b3 = Button(root, text = 'x',\n",
    "                fg='Black' ,\n",
    "                height=2,\n",
    "                activebackground='green')\n",
    "b3.pack(side=LEFT,pady=(120,0),padx=(12,0))\n",
    "\n",
    "\n",
    "  \n",
    "# Execute Tkinter\n",
    "root.mainloop()"
   ]
  },
  {
   "cell_type": "code",
   "execution_count": 27,
   "metadata": {},
   "outputs": [],
   "source": [
    "from  tkinter  import *\n",
    "\n",
    "root= Tk()\n",
    "root.geometry('300x300')\n",
    "b1 = Button(root,text=\"+\",width=3,foreground='Black',activebackground='Blue')\n",
    "b1.pack(side=LEFT,padx=(12,0))\n",
    "root.mainloop()"
   ]
  },
  {
   "cell_type": "code",
   "execution_count": 13,
   "metadata": {},
   "outputs": [],
   "source": [
    "from tkinter import *\n",
    "root= Tk()\n",
    "root.geometry(\"300x510\")\n",
    "#root.maxsize(300,510)\n",
    "root.title(\"Calcuator\")\n",
    "#Code for button 1\n",
    "b1 = Button(root,text=\"1\",height=5,width=7,bg=\"Red\",bd=4)\n",
    "b1.place(x=10,y=411)\n",
    "\n",
    "#Code for button 2\n",
    "b2 = Button(root,text=\"2\",height=5,width=7,bg=\"Red\",bd=4)\n",
    "b2.place(x=77,y=411)\n",
    "\n",
    "#Code for button 3\n",
    "b3 = Button(root,text=\"3\",height=5,width=7,bg=\"Red\",bd=4)\n",
    "b3.place(x=142,y=411)\n",
    "\n",
    "#Code for button 4\n",
    "b4 = Button(root,text=\"4\",height=5,width=7,bg=\"Red\",bd=4)\n",
    "b4.place(x=207,y=411)\n",
    "\n",
    "#Code for button 5\n",
    "b5 = Button(root,text=\"5\",height=5,width=7,bg=\"Red\",bd=4)\n",
    "b5.place(x=10,y=310)\n",
    "\n",
    "#Code for button 6\n",
    "b6 = Button(root,text=\"6\",height=5,width=7,bg=\"Red\",bd=4)\n",
    "b6.place(x=75,y=310)\n",
    "\n",
    "#Code for button 7\n",
    "b7 = Button(root,text=\"7\",height=5,width=7,bg=\"Red\",bd=4)\n",
    "b7.place(x=142,y=310)\n",
    "\n",
    "#Code for button 8\n",
    "b8 = Button(root,text=\"8\",height=5,width=7,bg=\"Red\",bd=4)\n",
    "b8.place(x=207,y=310)\n",
    "\n",
    "#Code for button 9\n",
    "b9 = Button(root,text=\"9\",height=5,width=7,bg=\"Red\",bd=4)\n",
    "b9.place(x=14,y=209)\n",
    "\n",
    "#Code for button 0\n",
    "b0 = Button(root,text=\"0\",height=5,width=7,bg=\"Red\",bd=4)\n",
    "b0.place(x=79,y=209)\n",
    "\n",
    "#Code for button +\n",
    "ba = Button(root,text=\"+\",height=5,width=7,bg=\"Red\",bd=4)\n",
    "ba.place(x=144,y=209)\n",
    "\n",
    "#Code for button -\n",
    "bs = Button(root,text=\"-\",height=5,width=7,bg=\"Red\",bd=4)\n",
    "bs.place(x=209,y=209)\n",
    "\n",
    "\n",
    "#Code for button multiplication\n",
    "bm = Button(root,text=\"x\",height=5,width=7,bg=\"Blue\",bd=4,fg=\"white\")\n",
    "bm.place(x=17,y=108)\n",
    "\n",
    "#Code for button / Division\n",
    "bd = Button(root,text=\"/\",height=5,width=7,bg=\"Blue\",bd=4,fg=\"white\")\n",
    "bd.place(x=83,y=108)\n",
    "\n",
    "#Code for button ^\n",
    "be = Button(root,text=\"^\",height=5,width=7,bg=\"Blue\",bd=4,fg=\"white\")\n",
    "be.place(x=149,y=108)\n",
    "\n",
    "#Code for button =\n",
    "b = Button(root,text=\"=\",height=5,width=7,bg=\"Blue\",bd=4,fg=\"white\")\n",
    "b.place(x=214,y=108)\n",
    "\n",
    "\n",
    "#Code for Entry\n",
    "e =Entry(root,bd=5,width=14,font=('Time',24))\n",
    "e.place(x=14,y=40)\n",
    "\n",
    "#Code for Button Clear and delete\n",
    "\n",
    "clear =Button(root,text=\"CC\",height=1,width=2,bg=\"Red\",fg=\"White\" ,font=('Calibri',8))\n",
    "clear.place(x=250,y=10)\n",
    "\n",
    "dell =Button(root,text=\"Del\",height=1,width=2,bg=\"Red\",fg=\"White\" ,font=('Calibri',8))\n",
    "dell.place(x=220,y=10)\n",
    "\n",
    "\n",
    "\n",
    "\n",
    "\n",
    "root.mainloop()"
   ]
  },
  {
   "cell_type": "code",
   "execution_count": 18,
   "metadata": {},
   "outputs": [],
   "source": [
    "from tkinter import *\n",
    "from tkinter import ttk\n",
    "root = Tk()  \n",
    "root.geometry(\"500x700\")\n",
    "root.maxsize(500,700)\n",
    "root.minsize(500,700)\n",
    "\n",
    "# Create a frames------------------------------\n",
    "\n",
    "x=Frame(root,height = 680,width = 245,bg = \"Blue\")\n",
    "x.pack(side=LEFT)\n",
    "\n",
    "y=Frame(root,height = 680,width = 245,bg = \"Brown\")\n",
    "y.pack(side=RIGHT)\n",
    "\n",
    "\n",
    "\n",
    "\n",
    "def calculate():\n",
    "  e1 =  float(eng.get())\n",
    "  e2 =  float(math.get())\n",
    "  e3 =  float(science.get())\n",
    "  e4 =  float(islamiat.get())\n",
    "  e5 =  float(sst.get())\n",
    "  e6 =  float(computer.get())\n",
    "  total=float(totalmarks.get())\n",
    "  obtain=e1+e2+e3+e4+e5+e6\n",
    "  \n",
    "  percentage=(obtain/total)*100\n",
    "  l=Label(y,text=obtain,font=('Bauhaus 93',15),fg='White',bg=\"brown\",bd=3)\n",
    "  l.place(x=160,y=560)\n",
    "  m=Label(y,text=percentage,font=('Bauhaus 93',15),fg='White',bg=\"brown\",bd=3)\n",
    "  m.place(x=160,y=600)\n",
    "    \n",
    "    \n",
    " \n",
    "    \n",
    " #Create a label widget ---------------------------------------------------\n",
    "\n",
    "sub = Label (x,text=\"SUBJECTS\",font=('ALGERIAN',25),fg='White',bg=\"Blue\")\n",
    "sub.place(x=25,y=10)\n",
    "\n",
    "marks = Label (y,text=\"MARKS\",font=('ALGERIAN',25),fg='White',bg=\"Brown\")\n",
    "marks.place(x=25,y=10,anchor=NW)\n",
    "\n",
    "\n",
    "\n",
    "#Create a label  and Entry widget for English---------------------------------------------------\n",
    "\n",
    "Eng = Label (x,text=\"ENGLISH\",font=('Bauhaus 93',18),fg='White',bg=\"Blue\")\n",
    "Eng.place(x=25,y=70)\n",
    "\n",
    "eng = Entry(y,font=('Arial',18),fg='Black',bg=\"white\",bd=3, width=16 )\n",
    "eng.place(x=5,y=70)\n",
    "\n",
    "\n",
    "\n",
    "\n",
    "# Create a label  and Entry widget for Math---------------------------------------------------\n",
    "Math = Label (x,text=\"MATHS\",font=('Bauhaus 93',18),fg='White',bg=\"Blue\")\n",
    "Math.place(x=25,y=140)\n",
    "\n",
    "math = Entry(y,font=('Arial',18),fg='Black',bg=\"white\",bd=3, width=16 )\n",
    "math.place(x=5,y=140)\n",
    "\n",
    "\n",
    "\n",
    "\n",
    "\n",
    "# Create a label  and Entry widget for Computre---------------------------------------------------\n",
    "\n",
    "Computer = Label (x,text=\"COMPUTER\",font=('Bauhaus 93',18),fg='White',bg=\"Blue\")\n",
    "Computer.place(x=25,y=210)\n",
    "\n",
    "computer = Entry(y,font=('Arial',18),fg='Black',bg=\"white\",bd=3, width=16 )\n",
    "computer.place(x=5,y=210)\n",
    "\n",
    "# Create a label  and Entry widget for Science---------------------------------------------------\n",
    "\n",
    "Science = Label (x,text=\"SCIENCE\",font=('Bauhaus 93',18),fg='White',bg=\"Blue\")\n",
    "Science.place(x=25,y=280)\n",
    "\n",
    "science = Entry(y,font=('Arial',18),fg='Black',bg=\"white\",bd=3, width=16 )\n",
    "science.place(x=5,y=280)\n",
    "\n",
    "# Create a label  and Entry widget for SST---------------------------------------------------\n",
    "\n",
    "SST = Label (x,text=\"SOCIAL STUDIES\",font=('Bauhaus 93',18),fg='White',bg=\"Blue\")\n",
    "SST.place(x=25,y=350)\n",
    "\n",
    "sst = Entry(y,font=('Arial',18),fg='Black',bg=\"white\",bd=3, width=16 )\n",
    "sst.place(x=5,y=350)\n",
    "\n",
    "\n",
    "# Create a label  and Entry widget for ISLAMIAT---------------------------------------------------\n",
    "\n",
    "Islamiat = Label (x,text=\"ISLAMIC STUDIES\",font=('Bauhaus 93',18),fg='White',bg=\"blue\",bd=3)\n",
    "Islamiat.place(x=25,y=420)\n",
    "\n",
    "islamiat = Entry(y,font=('Arial',18),fg='Black',bg=\"white\",bd=3, width=16 )\n",
    "islamiat.place(x=5,y=420)\n",
    "\n",
    "\n",
    "# Create a label  and Entry widget for obtain marks---------------------------------------------------\n",
    "\n",
    "TotalMarks = Label (x,text=\"Total Marks\",font=('Bauhaus 93',18),fg='White',bg=\"blue\",bd=3)\n",
    "TotalMarks .place(x=25,y=490)\n",
    "\n",
    "totalmarks = Entry(y,font=('Arial',18),fg='Black',bg=\"white\",bd=3, width=16 )\n",
    "totalmarks.place(x=5,y=490)\n",
    "\n",
    "\n",
    "\n",
    "\n",
    "# Create a label  and Entry widget for obtain marks---------------------------------------------------\n",
    "\n",
    "ObtainMarks = Label (y,text=\"ObtainMarks\",font=('Bauhaus 93',15),fg='White',bg=\"brown\",bd=3)\n",
    "ObtainMarks .place(x=15,y=560)\n",
    "\n",
    "percentage = Label (y,text=\"Percentage\",font=('Bauhaus 93',15),fg='White',bg=\"brown\",bd=3)\n",
    "percentage.place(x=15,y=600)\n",
    "\n",
    "\n",
    "submit = Button(root,text=\"SUBMIT\" ,\n",
    "                font =(\"Arial Black\", 18),\n",
    "                activeforeground=\"red\",bd=3,\n",
    "                bg=\"#F4CA16\" ,\n",
    "                command=calculate,\n",
    "                relief=RIDGE)\n",
    "submit.place(x=18,y=570)\n",
    "\n",
    "\n",
    "\n",
    "\n",
    "     \n",
    "\n",
    "\n",
    "\n",
    "\n",
    "root.mainloop()"
   ]
  },
  {
   "cell_type": "code",
   "execution_count": 5,
   "metadata": {},
   "outputs": [],
   "source": [
    "from tkinter import *\n",
    "root=Tk()\n",
    "root.geometry(\"600x600\")\n",
    "\n",
    "def summ():\n",
    "    x=int(e1.get())\n",
    "    y=int(e2.get())\n",
    "    add=x+y\n",
    "    mult=x*y\n",
    "    l=Label(root,text=add,font=(\"Arial,26\"))\n",
    "    l.place(x=100,y=400)\n",
    "    m=Label(root,text=mult,font=(\"Arial,26\"))\n",
    "    m.place(x=100,y=300)\n",
    "    \n",
    "    \n",
    " \n",
    "\n",
    "\n",
    "e1 = Entry(font=(\"Arial\",24))\n",
    "e1.place(x=10,y=200)\n",
    "\n",
    "e2 = Entry(font=(\"Arial\",24))\n",
    "e2.place(x=10,y=300)\n",
    "\n",
    "b=Button(root,text=\"SUBMIT\",width=10,height=6,command=summ).place(x=10,y=400)\n",
    "\n",
    "root.mainloop()\n",
    "\n",
    "\n"
   ]
  },
  {
   "cell_type": "code",
   "execution_count": 4,
   "metadata": {},
   "outputs": [],
   "source": [
    "win = Tk() # This is to create a basic window\n",
    "win.geometry(\"312x324\")  # this is for the size of the window \n",
    "win.resizable(0, 0)  # this is to prevent from resizing the window\n",
    "win.title(\"Calculator\")\n",
    "\n",
    "###################Starting with functions ####################\n",
    "# 'btn_click' function : \n",
    "# This Function continuously updates the \n",
    "# input field whenever you enter a number\n",
    "\n",
    "def btn_click(item):\n",
    "    global expression\n",
    "    expression = expression + str(item)\n",
    "    input_text.set(expression)\n",
    "\n",
    "# 'bt_clear' function :This is used to clear \n",
    "# the input field\n",
    "\n",
    "def bt_clear(): \n",
    "    global expression \n",
    "    expression = \"\" \n",
    "    input_text.set(\"\")\n",
    " \n",
    "# 'bt_equal':This method calculates the expression \n",
    "# present in input field\n",
    " \n",
    "def bt_equal():\n",
    "    global expression\n",
    "    result = str(eval(expression)) # 'eval':This function is used to evaluates the string expression directly\n",
    "    input_text.set(result)\n",
    "    expression = \"\"\n",
    " \n",
    "expression = \"\"\n",
    " \n",
    "# 'StringVar()' :It is used to get the instance of input field\n",
    " \n",
    "input_text = StringVar()\n",
    " \n",
    "# Let us creating a frame for the input field\n",
    " \n",
    "input_frame = Frame(win, width=312, height=50, bd=0, highlightbackground=\"black\", highlightcolor=\"black\", highlightthickness=2)\n",
    " \n",
    "input_frame.pack(side=TOP)\n",
    " \n",
    "#Let us create a input field inside the 'Frame'\n",
    " \n",
    "input_field = Entry(input_frame, font=('arial', 18, 'bold'), textvariable=input_text, width=50, bg=\"#eee\", bd=0, justify=RIGHT)\n",
    " \n",
    "input_field.grid(row=0, column=0)\n",
    " \n",
    "input_field.pack(ipady=10) # 'ipady' is internal padding to increase the height of input field\n",
    " \n",
    "#Let us creating another 'Frame' for the button below the 'input_frame'\n",
    " \n",
    "btns_frame = Frame(win, width=312, height=272.5, bg=\"grey\")\n",
    " \n",
    "btns_frame.pack()\n",
    " \n",
    "# first row\n",
    " \n",
    "\n",
    " \n",
    "seven = Button(btns_frame, text = \"7\", fg = \"black\", width = 10, height = 3, bd = 0, bg = \"#fff\", cursor = \"hand2\", command = lambda: btn_click(7)).grid(row = 1, column = 0, padx = 1, pady = 1)\n",
    " \n",
    "\n",
    "win.mainloop()"
   ]
  },
  {
   "cell_type": "code",
   "execution_count": 7,
   "metadata": {},
   "outputs": [],
   "source": [
    "from tkinter import *\n",
    "win = Tk() # This is to create a basic window\n",
    "win.geometry(\"312x324\")  # this is for the size of the window \n",
    "win.resizable(False, False)  # this is to prevent from resizing the window\n",
    "win.title(\"Calculator\")\n",
    "\n",
    "\n",
    "expression =\"\"\n",
    "    \n",
    "a=StringVar()\n",
    "    \n",
    "def number(item):\n",
    "    global expression\n",
    "    expression = expression + str(item)\n",
    "    a.set(expression)\n",
    "\n",
    "    \n",
    "    \n",
    "def equal():\n",
    "    global expression\n",
    "    result=eval(expression)\n",
    "    expression=str(result)\n",
    "    a.set(expression)\n",
    "    \n",
    "    \n",
    "    \n",
    "\n",
    "e1=Entry(win,width=16,font=(\"Arial\",24),fg=\"green\",bd=4,textvariable=a)\n",
    "e1.place(x=9,y=5)\n",
    "\n",
    "btn=Button(text='1' ,width=5,height=2,bg=\"Blue\",command=lambda:number(1))\n",
    "btn.place(x=10,y=54)\n",
    "\n",
    "\n",
    "btn2=Button(text='2' ,width=5,height=2,bg=\"Blue\",command=lambda:number(2))\n",
    "btn2.place(x=60,y=54)\n",
    "\n",
    "\n",
    "\n",
    "btn3=Button(text='+' ,width=5,height=2,bg=\"Blue\",command=lambda:number('+'))\n",
    "btn3.place(x=160,y=54)\n",
    "\n",
    "\n",
    "btn4=Button(text='=' ,width=5,height=2,bg=\"Blue\",command=lambda:equal())\n",
    "btn4.place(x=110,y=54)\n",
    "\n",
    "win.mainloop()"
   ]
  },
  {
   "cell_type": "code",
   "execution_count": 46,
   "metadata": {},
   "outputs": [
    {
     "ename": "AttributeError",
     "evalue": "'str' object has no attribute 'pop'",
     "output_type": "error",
     "traceback": [
      "\u001b[1;31m---------------------------------------------------------------------------\u001b[0m",
      "\u001b[1;31mAttributeError\u001b[0m                            Traceback (most recent call last)",
      "\u001b[1;32m<ipython-input-46-2af53c9f7745>\u001b[0m in \u001b[0;36m<module>\u001b[1;34m\u001b[0m\n\u001b[0;32m      1\u001b[0m \u001b[0ma\u001b[0m\u001b[1;33m=\u001b[0m\u001b[1;34m\"Pakistan\"\u001b[0m\u001b[1;33m\u001b[0m\u001b[1;33m\u001b[0m\u001b[0m\n\u001b[0;32m      2\u001b[0m \u001b[0mx\u001b[0m\u001b[1;33m=\u001b[0m\u001b[0mlen\u001b[0m\u001b[1;33m(\u001b[0m\u001b[0ma\u001b[0m\u001b[1;33m)\u001b[0m\u001b[1;33m\u001b[0m\u001b[1;33m\u001b[0m\u001b[0m\n\u001b[1;32m----> 3\u001b[1;33m \u001b[0ma\u001b[0m\u001b[1;33m.\u001b[0m\u001b[0mpop\u001b[0m\u001b[1;33m(\u001b[0m\u001b[0mx\u001b[0m\u001b[1;33m)\u001b[0m\u001b[1;33m\u001b[0m\u001b[1;33m\u001b[0m\u001b[0m\n\u001b[0m\u001b[0;32m      4\u001b[0m \u001b[0mprint\u001b[0m\u001b[1;33m(\u001b[0m\u001b[0ma\u001b[0m\u001b[1;33m)\u001b[0m\u001b[1;33m\u001b[0m\u001b[1;33m\u001b[0m\u001b[0m\n",
      "\u001b[1;31mAttributeError\u001b[0m: 'str' object has no attribute 'pop'"
     ]
    }
   ],
   "source": [
    "a=\"Pakistan\"\n",
    "x=len(a)\n",
    "a.pop(x)\n",
    "print(a)"
   ]
  },
  {
   "cell_type": "markdown",
   "metadata": {},
   "source": [
    "# TASBEEH COUNTER"
   ]
  },
  {
   "cell_type": "code",
   "execution_count": null,
   "metadata": {},
   "outputs": [],
   "source": [
    "from tkinter import *\n",
    "from tkinter import  messagebox\n",
    "t = Tk()\n",
    "t.title(\"Tasbeeh Conter\")\n",
    "t.geometry(\"400x500\")\n",
    "t.config(bg=\"#FFD516\")\n",
    "\n",
    " \n",
    "   \n",
    "a=StringVar()  \n",
    "x=0\n",
    "def count():\n",
    "   \n",
    "    global x\n",
    "    x=x+1\n",
    "    result=str(x)\n",
    "    a.set(result)\n",
    "    if(x!=100):\n",
    "        if(x>=1 and x<=34):\n",
    "            l1=Label(text=\"ALLAH-HU-AKBAR\",font=(\"Fantasy\",24),\n",
    "              bg=\"Green\",fg=\"White\").place(x=60,y=100)\n",
    "        elif(x>=34 and x<=67):\n",
    "           \n",
    "            l2=Label(text=\"AL - HAMDULLIAH\",font=(\"Fantasy\",24),\n",
    "              bg=\"Green\",fg=\"White\").place(x=60,y=100)\n",
    "        elif(x>=68 and x<=100):\n",
    "            l3=Label(text=\"SUBHAN -  ALLAH\",font=(\"Fantasy\",24),\n",
    "              bg=\"Green\",fg=\"White\").place(x=60,y=100)\n",
    "    else:\n",
    "        messagebox.showinfo(\"786\",\"Tasbeeh Completed\")\n",
    "   \n",
    "\n",
    "#Code to reset counter\n",
    "def reset():\n",
    "    global x\n",
    "    x=0\n",
    "    a.set(\"\")\n",
    "    \n",
    "    \n",
    "    \n",
    "    \n",
    "    #Code for Entry\n",
    "e1= Entry(t,width=10,font=(\"Arial\",24),\n",
    "          bg=\"Blue\",fg=\"White\",\n",
    "          justify=CENTER,textvariable=a)\n",
    "e1.place(x=110,y=200)\n",
    "\n",
    "    #Code for count Button\n",
    "b1= Button(t,width=7,height=4,font=(\"Arial\",10),\n",
    "           text=\"COUNT\",justify=CENTER,\n",
    "           bg=\"Blue\",fg=\"White\",\n",
    "           command=lambda:count()).place(x=120,y=300)\n",
    "\n",
    "    #Code for Reset Button\n",
    "\n",
    "b2= Button(t,width=7,height=4,font=(\"ArialBlack\",10),\n",
    "           text=\"RESET\",justify=CENTER,\n",
    "           bg=\"Blue\",fg=\"White\",\n",
    "           command=lambda:reset()).place(x=210,y=300)\n",
    "\n",
    "\n",
    "t.mainloop()\n",
    "\n",
    "\n",
    "\n",
    "\n",
    "\n",
    "\n",
    "\n",
    "\n",
    "\n",
    "\n",
    "\n",
    "\n",
    "\n",
    "\n",
    "\n",
    "\n",
    "\n",
    "\n",
    "\n",
    "\n",
    "\n",
    "\n",
    "\n",
    "\n",
    "\n",
    "\n",
    "\n"
   ]
  },
  {
   "cell_type": "code",
   "execution_count": null,
   "metadata": {},
   "outputs": [],
   "source": []
  }
 ],
 "metadata": {
  "kernelspec": {
   "display_name": "Python 3",
   "language": "python",
   "name": "python3"
  },
  "language_info": {
   "codemirror_mode": {
    "name": "ipython",
    "version": 3
   },
   "file_extension": ".py",
   "mimetype": "text/x-python",
   "name": "python",
   "nbconvert_exporter": "python",
   "pygments_lexer": "ipython3",
   "version": "3.8.3"
  }
 },
 "nbformat": 4,
 "nbformat_minor": 4
}
