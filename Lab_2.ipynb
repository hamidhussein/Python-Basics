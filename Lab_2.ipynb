{
 "cells": [
  {
   "attachments": {},
   "cell_type": "markdown",
   "metadata": {},
   "source": [
    "Q1:Write a program that asks the user to enter two numbers, obtains the two numbers from the\n",
    "user and prints the sum, product, difference, quotient and remainder of the two numbers.\n",
    "Sample output is as following:\n",
    "Enter the first number: 20\n",
    "Enter the second number: 5\n",
    "The sum is 25.0\n",
    "The product is 100.0\n",
    "The difference is 15.0\n",
    "The quotient is 4.0\n",
    "The remainder is 0.0\n",
    "\n"
   ]
  },
  {
   "cell_type": "code",
   "execution_count": 34,
   "metadata": {},
   "outputs": [
    {
     "name": "stdout",
     "output_type": "stream",
     "text": [
      "The sum is 25.0\n",
      "The product is 100.0\n",
      "The difference is 15.0\n",
      "The quotient is 4.0\n",
      "The remainder is 0.0\n"
     ]
    }
   ],
   "source": [
    "num1 = float(input(\"Enter the first number: \"))\n",
    "num2 = float(input(\"Enter the second number: \"))\n",
    "\n",
    "# Calculate the sum\n",
    "sum = num1 + num2\n",
    "\n",
    "# Calculate the product\n",
    "product = num1 * num2\n",
    "\n",
    "# Calculate the difference\n",
    "difference = num1 - num2\n",
    "\n",
    "# Calculate the quotient\n",
    "quotient = num1 / num2\n",
    "\n",
    "# Calculate the remainder\n",
    "remainder = num1 % num2\n",
    "\n",
    "# Print the results\n",
    "print(\"The sum is\", sum)\n",
    "print(\"The product is\", product)\n",
    "print(\"The difference is\", difference)\n",
    "print(\"The quotient is\", quotient)\n",
    "print(\"The remainder is\", remainder)"
   ]
  },
  {
   "attachments": {},
   "cell_type": "markdown",
   "metadata": {},
   "source": [
    "Q2:Write a program that reads in the radius of a circle and prints the circle’s diameter,\n",
    "circumference and area. Use the constant value 3.14159 for π. Perform each of these\n",
    "calculations inside the print statement(s)"
   ]
  },
  {
   "cell_type": "code",
   "execution_count": 6,
   "metadata": {},
   "outputs": [
    {
     "name": "stdout",
     "output_type": "stream",
     "text": [
      "The diameter is 18.0\n",
      "The circumference is 56.54862\n",
      "The area is 254.46878999999998\n"
     ]
    }
   ],
   "source": [
    "radius = float(input(\"Enter the radius of the circle: \"))\n",
    "\n",
    "print(\"The diameter is\", 2 * radius)\n",
    "\n",
    "\n",
    "print(\"The circumference is\", 2 * 3.14159 * radius)\n",
    "\n",
    "\n",
    "print(\"The area is\", 3.14159 * radius**2)\n"
   ]
  },
  {
   "attachments": {},
   "cell_type": "markdown",
   "metadata": {},
   "source": [
    "Write a program that produces the following output using variables instead of\n",
    "hardcoding"
   ]
  },
  {
   "attachments": {},
   "cell_type": "markdown",
   "metadata": {},
   "source": [
    "Write a program that reads an integer and determines and prints whether it is odd or even.\n"
   ]
  },
  {
   "cell_type": "code",
   "execution_count": 15,
   "metadata": {},
   "outputs": [
    {
     "name": "stdout",
     "output_type": "stream",
     "text": [
      "Even\n"
     ]
    }
   ],
   "source": [
    "x= int(input(\"Enter a number\"))\n",
    "if(x%2==0):\n",
    "    print(\"Even\")\n",
    "elif(x%2==1):\n",
    "    print(\"Odd\")\n",
    "else:\n",
    "    print('Invalid Input')"
   ]
  },
  {
   "attachments": {},
   "cell_type": "markdown",
   "metadata": {},
   "source": [
    "Which of the following expressions results in SyntaxErrors? Identify the syntax\n",
    "SyntaxErrors and type the reason of error along with the correct code by mentioning its\n",
    "sequence number.\n",
    "n. 6 * -----------8\n",
    "o. 8 = people\n",
    "p. ((((4 ** 3))))\n",
    "q. (-(-(-(-5))))\n",
    "r. 4 += 7 / 2\n"
   ]
  },
  {
   "cell_type": "code",
   "execution_count": 25,
   "metadata": {},
   "outputs": [],
   "source": [
    "6 * -----------8\n",
    "#8 = people  It will generate syntax error because we write variabe name in left of its value\n",
    "people = 8\n",
    "((((4 ** 3))))\n",
    "(-(-(-(-5))))\n",
    "# 4 += 7 / 2  #it will also return syntax error ..becase we use assignment operator only with variable\n",
    "x=4\n",
    "x+= 7 / 2 "
   ]
  },
  {
   "attachments": {},
   "cell_type": "markdown",
   "metadata": {},
   "source": [
    "Using only the techniques you have learned so far, write a program that calculates the square\n",
    "and cube of the numbers from 0 to 10 and uses tabs to print the following table of values:"
   ]
  },
  {
   "cell_type": "code",
   "execution_count": 33,
   "metadata": {},
   "outputs": [
    {
     "name": "stdout",
     "output_type": "stream",
     "text": [
      "Nummbers\t Square\t\t Cube\t\n",
      "0 \t\t 0 \t\t 0\n",
      "1 \t\t 1 \t\t 1\n",
      "2 \t\t 4 \t\t 8\n",
      "3 \t\t 9 \t\t 27\n",
      "4 \t\t 16 \t\t 64\n",
      "5 \t\t 25 \t\t 125\n",
      "6 \t\t 36 \t\t 216\n",
      "7 \t\t 49 \t\t 343\n",
      "8 \t\t 64 \t\t 512\n",
      "9 \t\t 81 \t\t 729\n",
      "10 \t\t 100 \t\t 1000\n"
     ]
    }
   ],
   "source": [
    "print(\"Nummbers\\t Square\\t\\t Cube\\t\")\n",
    "for x in range(11):\n",
    "    sq=x**2\n",
    "    cube=x**3\n",
    "    print(x ,'\\t\\t',sq, '\\t\\t' ,cube)"
   ]
  },
  {
   "attachments": {},
   "cell_type": "markdown",
   "metadata": {},
   "source": [
    "Write a program that assigns values to two variables and then swap their values. *"
   ]
  },
  {
   "cell_type": "code",
   "execution_count": 44,
   "metadata": {},
   "outputs": [
    {
     "name": "stdout",
     "output_type": "stream",
     "text": [
      "Values of a = 5 and b = 12 before swapping\n",
      "Values of a = 12 and b = 5 before swapping\n"
     ]
    }
   ],
   "source": [
    "a=5\n",
    "b=12\n",
    "print(\"Values of a =\" ,a ,\"and b =\",b ,\"before swapping\")\n",
    "c=a\n",
    "a=b\n",
    "b=c\n",
    "print(\"Values of a =\" ,a ,\"and b =\",b ,\"before swapping\")"
   ]
  },
  {
   "cell_type": "markdown",
   "metadata": {},
   "source": []
  },
  {
   "cell_type": "code",
   "execution_count": 2,
   "metadata": {},
   "outputs": [
    {
     "name": "stdout",
     "output_type": "stream",
     "text": [
      "Reverse of the number: 41215\n"
     ]
    }
   ],
   "source": [
    "number = input(\"Enter a five-digit number: \")\n",
    "\n",
    "# Check if the input is a five-digit number\n",
    "if len(number) != 5 or not number.isdigit():\n",
    "    print(\"Invalid input! Please enter a five-digit number.\")\n",
    "else:\n",
    "    number = int(number)  # Type cast the input to an integer\n",
    "    reverse = 0\n",
    "    temp = number\n",
    "\n",
    "    while temp > 0:\n",
    "        digit = temp % 10\n",
    "        reverse = reverse * 10 + digit\n",
    "        temp = temp // 10\n",
    "\n",
    "    print(\"Reverse of the number:\", reverse)\n"
   ]
  },
  {
   "attachments": {},
   "cell_type": "markdown",
   "metadata": {},
   "source": [
    "Using whatever we have learned so far, write a program that prints a box, an oval, an\n",
    "arrow and a diamond as follows:\n"
   ]
  },
  {
   "cell_type": "code",
   "execution_count": 25,
   "metadata": {},
   "outputs": [
    {
     "name": "stdout",
     "output_type": "stream",
     "text": [
      "     *\n",
      "    ***\n",
      "   *****\n",
      "  *******\n",
      " *********\n",
      "***********\n",
      "     * \n",
      "     * \n",
      "     * \n",
      "     * \n",
      "     * \n"
     ]
    }
   ],
   "source": [
    "def print_box():\n",
    "    for i in range(5):\n",
    "        for j in range(5):\n",
    "            if i == 0 or i == 4 or j == 0 or j == 4:\n",
    "                print(\"*\", end=\" \")\n",
    "            else:\n",
    "                print(\" \", end=\" \")\n",
    "        print()\n",
    "\n",
    "def print_oval():\n",
    "    for i in range(7):\n",
    "        for j in range(7):\n",
    "            if ((j == 0 or j == 6) and (i != 0 and i != 6)) or ((i == 0 or i == 6) and (j > 0 and j < 6)):\n",
    "                print(\"*\", end=\" \")\n",
    "            else:\n",
    "                print(\" \", end=\" \")\n",
    "        print()\n",
    "def print_arrow():\n",
    "    rows=6\n",
    "    for i in range(rows):\n",
    "        for j in range(rows - i - 1):\n",
    "            print(\" \", end=\"\")\n",
    "        for j in range(2 * i + 1):\n",
    "            print(\"*\", end=\"\")\n",
    "        print()\n",
    "        # Print tail\n",
    "    for i in range(5):\n",
    "        \n",
    "       \n",
    "        for j in range(1):\n",
    "            print(\"\",end=\" \")\n",
    "            print(\"    *\", end=\" \")\n",
    "        print()\n",
    "\n",
    "\n",
    "    \n",
    "\n",
    "# print_box()\n",
    "# print_oval()\n",
    "print_arrow()\n",
    "               "
   ]
  },
  {
   "attachments": {},
   "cell_type": "markdown",
   "metadata": {},
   "source": [
    "Write a program to prompt for a score between 0.0 and 1.0. If the score is out of range, print\n",
    "an error message. If the score is between 0.0 and 1.0, print a grade using the following table"
   ]
  },
  {
   "cell_type": "code",
   "execution_count": 34,
   "metadata": {},
   "outputs": [
    {
     "name": "stdout",
     "output_type": "stream",
     "text": [
      "Grade: C\n"
     ]
    }
   ],
   "source": [
    "def print_grade(score):\n",
    "    if score < 0.0 or score > 1.0:\n",
    "        print(\"Score is out of range!\")\n",
    "    else:\n",
    "        if score >= 0.9:\n",
    "            print(\"Grade: A\")\n",
    "        elif score >= 0.8:\n",
    "            print(\"Grade: B\")\n",
    "        elif score >= 0.7:\n",
    "            print(\"Grade: C\")\n",
    "        elif score >= 0.6:\n",
    "            print(\"Grade: D\")\n",
    "        elif score >= 0.5:\n",
    "            print(\"Grade: F\")\n",
    "        else:\n",
    "            print(\"Grade: F\")\n",
    "            \n",
    "\n",
    "# Prompt the user for a score\n",
    "score = float(input(\"Enter a score  \"))\n",
    "print_grade(score)\n"
   ]
  },
  {
   "attachments": {},
   "cell_type": "markdown",
   "metadata": {},
   "source": [
    "Write a program that asks the user for an hour between 1 and 12, asks them to enter am or\n",
    "pm, and asks them how many hours into the future they want to go. Print out what the hour\n",
    "will be that many hours into the future, printing am or pm as appropriate. An example is\n",
    "shown below"
   ]
  },
  {
   "cell_type": "code",
   "execution_count": 36,
   "metadata": {},
   "outputs": [
    {
     "name": "stdout",
     "output_type": "stream",
     "text": [
      "The hour 2 hours into the future will be 3:00 1\n"
     ]
    }
   ],
   "source": [
    "def calculate_future_hour(current_hour, meridiem, hours_into_future):\n",
    "    current_hour = current_hour % 12  # Convert hour to 12-hour format\n",
    "    if meridiem == 2:\n",
    "        current_hour += 12  # Add 12 if it's PM\n",
    "\n",
    "    future_hour = (current_hour + hours_into_future) % 24  # Calculate future hour\n",
    "\n",
    "    if future_hour >= 12:\n",
    "        meridiem = 2\n",
    "    else:\n",
    "        meridiem = 1\n",
    "\n",
    "    future_hour = (future_hour + 11) % 12 + 1  # Convert future hour to 12-hour format\n",
    "\n",
    "    return future_hour, meridiem\n",
    "\n",
    "# Prompt the user for the current hour\n",
    "current_hour = int(input(\"Enter  hour (1-12): \"))\n",
    "\n",
    "# Prompt the user for AM or PM\n",
    "meridiem = int(input(\"Enter 'am 1' or 'pm 2': \"))\n",
    "\n",
    "# Prompt the user for the number of hours into the future\n",
    "hours_into_future = int(input(\"How many Hours a head? \"))\n",
    "\n",
    "# Calculate the future hour\n",
    "future_hour, future_meridiem = calculate_future_hour(current_hour, meridiem, hours_into_future)\n",
    "\n",
    "# Print the calculated hour\n",
    "print(f\"The hour {hours_into_future} hours into the future will be {future_hour}:00 {future_meridiem}\")\n"
   ]
  }
 ],
 "metadata": {
  "kernelspec": {
   "display_name": "Python 3",
   "language": "python",
   "name": "python3"
  },
  "language_info": {
   "codemirror_mode": {
    "name": "ipython",
    "version": 3
   },
   "file_extension": ".py",
   "mimetype": "text/x-python",
   "name": "python",
   "nbconvert_exporter": "python",
   "pygments_lexer": "ipython3",
   "version": "3.8.3"
  },
  "orig_nbformat": 4
 },
 "nbformat": 4,
 "nbformat_minor": 2
}
